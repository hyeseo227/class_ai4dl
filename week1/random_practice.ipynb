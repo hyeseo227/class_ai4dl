{
  "nbformat": 4,
  "nbformat_minor": 0,
  "metadata": {
    "colab": {
      "provenance": [],
      "authorship_tag": "ABX9TyMAqz3Zn3BWyDP7cGbVuQQg",
      "include_colab_link": true
    },
    "kernelspec": {
      "name": "python3",
      "display_name": "Python 3"
    },
    "language_info": {
      "name": "python"
    }
  },
  "cells": [
    {
      "cell_type": "markdown",
      "metadata": {
        "id": "view-in-github",
        "colab_type": "text"
      },
      "source": [
        "<a href=\"https://colab.research.google.com/github/hyeseo227/class_ai4dl/blob/main/week1/random_practice.ipynb\" target=\"_parent\"><img src=\"https://colab.research.google.com/assets/colab-badge.svg\" alt=\"Open In Colab\"/></a>"
      ]
    },
    {
      "cell_type": "code",
      "execution_count": null,
      "metadata": {
        "id": "W-xnrAhOt49q"
      },
      "outputs": [],
      "source": []
    },
    {
      "cell_type": "markdown",
      "source": [
        "# Title 1\n",
        "\n",
        "- list1 \n",
        "- list2\n",
        "\n",
        "\n",
        "[cute dog](https://search.pstatic.net/common/?src=http%3A%2F%2Fblogfiles.naver.net%2FMjAyMjAzMThfMTM4%2FMDAxNjQ3NjEyMjMwNTY4.Ta-_sGyX4qRZV2A9E8Hxk6-V5IsXsbUL_1EHhQEwJBsg.aMWjZNDw5poTj8j70tR_HoeTUw8HbBsnmJwDIaJxtLMg.JPEG.oneulst1%2F07--46.jpg&type=sc960_832)\n",
        "\n"
      ],
      "metadata": {
        "id": "nPR9qHOUt917"
      }
    }
  ]
}